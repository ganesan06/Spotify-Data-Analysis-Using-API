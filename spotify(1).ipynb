{
 "cells": [
  {
   "cell_type": "code",
   "execution_count": 11,
   "id": "2ddf01a2-7726-4ad6-a22f-fa4375379add",
   "metadata": {},
   "outputs": [],
   "source": [
    "from spotipy.oauth2 import SpotifyClientCredentials\n",
    "import spotipy\n",
    "import pandas as pd\n",
    "import matplotlib.pyplot as plt\n",
    "import re\n",
    "import json"
   ]
  },
  {
   "cell_type": "code",
   "execution_count": 3,
   "id": "95ae7f89-d0b9-412c-8450-125f4dc8e960",
   "metadata": {},
   "outputs": [],
   "source": [
    "sp = spotipy.Spotify(auth_manager=SpotifyClientCredentials(\n",
    "    client_id='cf6c6ea8e17642d39e097d163531226d',\n",
    "    client_secret='f7580b3d0d0f4a61b99aff3d4bc1c7f5'\n",
    "))"
   ]
  },
  {
   "cell_type": "code",
   "execution_count": 31,
   "id": "f61ab968-1334-4083-a197-0cf95e1ed49c",
   "metadata": {},
   "outputs": [
    {
     "name": "stdout",
     "output_type": "stream",
     "text": [
      "{'album': {'album_type': 'album', 'artists': [{'external_urls': {'spotify': 'https://open.spotify.com/artist/1mYsTxnqsietFxj1OgoGbG'}, 'href': 'https://api.spotify.com/v1/artists/1mYsTxnqsietFxj1OgoGbG', 'id': '1mYsTxnqsietFxj1OgoGbG', 'name': 'A.R. Rahman', 'type': 'artist', 'uri': 'spotify:artist:1mYsTxnqsietFxj1OgoGbG'}], 'available_markets': ['AR', 'AU', 'AT', 'BE', 'BO', 'BR', 'BG', 'CA', 'CL', 'CO', 'CR', 'CY', 'CZ', 'DK', 'DO', 'DE', 'EC', 'EE', 'SV', 'FI', 'FR', 'GR', 'GT', 'HN', 'HK', 'HU', 'IS', 'IE', 'IT', 'LV', 'LT', 'LU', 'MY', 'MT', 'MX', 'NL', 'NZ', 'NI', 'NO', 'PA', 'PY', 'PE', 'PH', 'PL', 'PT', 'SG', 'SK', 'ES', 'SE', 'CH', 'TW', 'TR', 'UY', 'US', 'GB', 'AD', 'LI', 'MC', 'ID', 'JP', 'TH', 'VN', 'RO', 'IL', 'ZA', 'SA', 'AE', 'BH', 'QA', 'OM', 'KW', 'EG', 'MA', 'DZ', 'TN', 'LB', 'JO', 'PS', 'IN', 'KZ', 'MD', 'UA', 'AL', 'BA', 'HR', 'ME', 'MK', 'RS', 'SI', 'KR', 'BD', 'PK', 'LK', 'GH', 'KE', 'NG', 'TZ', 'UG', 'AG', 'AM', 'BS', 'BB', 'BZ', 'BT', 'BW', 'BF', 'CV', 'CW', 'DM', 'FJ', 'GM', 'GE', 'GD', 'GW', 'GY', 'HT', 'JM', 'KI', 'LS', 'LR', 'MW', 'MV', 'ML', 'MH', 'FM', 'NA', 'NR', 'NE', 'PW', 'PG', 'PR', 'WS', 'SM', 'ST', 'SN', 'SC', 'SL', 'SB', 'KN', 'LC', 'VC', 'SR', 'TL', 'TO', 'TT', 'TV', 'VU', 'AZ', 'BN', 'BI', 'KH', 'CM', 'TD', 'KM', 'GQ', 'SZ', 'GA', 'GN', 'KG', 'LA', 'MO', 'MR', 'MN', 'NP', 'RW', 'TG', 'UZ', 'ZW', 'BJ', 'MG', 'MU', 'MZ', 'AO', 'CI', 'DJ', 'ZM', 'CD', 'CG', 'IQ', 'LY', 'TJ', 'VE', 'ET', 'XK'], 'external_urls': {'spotify': 'https://open.spotify.com/album/49suOMXRb3AJIseI97Qu1J'}, 'href': 'https://api.spotify.com/v1/albums/49suOMXRb3AJIseI97Qu1J', 'id': '49suOMXRb3AJIseI97Qu1J', 'images': [{'url': 'https://i.scdn.co/image/ab67616d0000b273d95c45f65ad3f4a7b19ec925', 'width': 640, 'height': 640}, {'url': 'https://i.scdn.co/image/ab67616d00001e02d95c45f65ad3f4a7b19ec925', 'width': 300, 'height': 300}, {'url': 'https://i.scdn.co/image/ab67616d00004851d95c45f65ad3f4a7b19ec925', 'width': 64, 'height': 64}], 'name': 'Ponniyin Selvan Part - 2 (Original Motion Picture Soundtrack)', 'release_date': '2023-03-29', 'release_date_precision': 'day', 'total_tracks': 7, 'type': 'album', 'uri': 'spotify:album:49suOMXRb3AJIseI97Qu1J'}, 'artists': [{'external_urls': {'spotify': 'https://open.spotify.com/artist/1mYsTxnqsietFxj1OgoGbG'}, 'href': 'https://api.spotify.com/v1/artists/1mYsTxnqsietFxj1OgoGbG', 'id': '1mYsTxnqsietFxj1OgoGbG', 'name': 'A.R. Rahman', 'type': 'artist', 'uri': 'spotify:artist:1mYsTxnqsietFxj1OgoGbG'}, {'external_urls': {'spotify': 'https://open.spotify.com/artist/41BeeC5hYqvtGkM79RYvN4'}, 'href': 'https://api.spotify.com/v1/artists/41BeeC5hYqvtGkM79RYvN4', 'id': '41BeeC5hYqvtGkM79RYvN4', 'name': 'Harini', 'type': 'artist', 'uri': 'spotify:artist:41BeeC5hYqvtGkM79RYvN4'}, {'external_urls': {'spotify': 'https://open.spotify.com/artist/1bVNHaVeL7Wp2VJHwkZ5KV'}, 'href': 'https://api.spotify.com/v1/artists/1bVNHaVeL7Wp2VJHwkZ5KV', 'id': '1bVNHaVeL7Wp2VJHwkZ5KV', 'name': 'Andal Pasuram', 'type': 'artist', 'uri': 'spotify:artist:1bVNHaVeL7Wp2VJHwkZ5KV'}], 'available_markets': ['AR', 'AU', 'AT', 'BE', 'BO', 'BR', 'BG', 'CA', 'CL', 'CO', 'CR', 'CY', 'CZ', 'DK', 'DO', 'DE', 'EC', 'EE', 'SV', 'FI', 'FR', 'GR', 'GT', 'HN', 'HK', 'HU', 'IS', 'IE', 'IT', 'LV', 'LT', 'LU', 'MY', 'MT', 'MX', 'NL', 'NZ', 'NI', 'NO', 'PA', 'PY', 'PE', 'PH', 'PL', 'PT', 'SG', 'SK', 'ES', 'SE', 'CH', 'TW', 'TR', 'UY', 'US', 'GB', 'AD', 'LI', 'MC', 'ID', 'JP', 'TH', 'VN', 'RO', 'IL', 'ZA', 'SA', 'AE', 'BH', 'QA', 'OM', 'KW', 'EG', 'MA', 'DZ', 'TN', 'LB', 'JO', 'PS', 'IN', 'KZ', 'MD', 'UA', 'AL', 'BA', 'HR', 'ME', 'MK', 'RS', 'SI', 'KR', 'BD', 'PK', 'LK', 'GH', 'KE', 'NG', 'TZ', 'UG', 'AG', 'AM', 'BS', 'BB', 'BZ', 'BT', 'BW', 'BF', 'CV', 'CW', 'DM', 'FJ', 'GM', 'GE', 'GD', 'GW', 'GY', 'HT', 'JM', 'KI', 'LS', 'LR', 'MW', 'MV', 'ML', 'MH', 'FM', 'NA', 'NR', 'NE', 'PW', 'PG', 'PR', 'WS', 'SM', 'ST', 'SN', 'SC', 'SL', 'SB', 'KN', 'LC', 'VC', 'SR', 'TL', 'TO', 'TT', 'TV', 'VU', 'AZ', 'BN', 'BI', 'KH', 'CM', 'TD', 'KM', 'GQ', 'SZ', 'GA', 'GN', 'KG', 'LA', 'MO', 'MR', 'MN', 'NP', 'RW', 'TG', 'UZ', 'ZW', 'BJ', 'MG', 'MU', 'MZ', 'AO', 'CI', 'DJ', 'ZM', 'CD', 'CG', 'IQ', 'LY', 'TJ', 'VE', 'ET', 'XK'], 'disc_number': 1, 'duration_ms': 80000, 'explicit': False, 'external_ids': {'isrc': 'INT102303953'}, 'external_urls': {'spotify': 'https://open.spotify.com/track/4Cj76cQVvek5Ejdx8GDFop'}, 'href': 'https://api.spotify.com/v1/tracks/4Cj76cQVvek5Ejdx8GDFop', 'id': '4Cj76cQVvek5Ejdx8GDFop', 'is_local': False, 'name': 'Aazhi Mazhai Kanna', 'popularity': 32, 'preview_url': None, 'track_number': 1, 'type': 'track', 'uri': 'spotify:track:4Cj76cQVvek5Ejdx8GDFop'}\n"
     ]
    }
   ],
   "source": [
    "track_url = \"https://open.spotify.com/track/4Cj76cQVvek5Ejdx8GDFop?si=e578f8b1a68d4798\"\n",
    "track_id = re.search(r'track/([a-zA-Z0-9]+)', track_url).group(1)\n",
    "track = sp.track(track_id)\n",
    "print(track)"
   ]
  },
  {
   "cell_type": "code",
   "execution_count": 32,
   "id": "1e8d288c-eae1-4dbf-9da4-eacebe56a8c8",
   "metadata": {},
   "outputs": [],
   "source": [
    "track_data = {\n",
    "    'Track Name': track['name'],\n",
    "    'Artist': track['artists'][0]['name'],\n",
    "    'Album': track['album']['name'],\n",
    "    'Popularity': track['popularity'],\n",
    "    'Duration (minutes)': track['duration_ms'] / 60000\n",
    "\n",
    "}"
   ]
  },
  {
   "cell_type": "code",
   "execution_count": 33,
   "id": "0ff015b6-8bfa-4292-87b2-f505301649ca",
   "metadata": {},
   "outputs": [
    {
     "name": "stdout",
     "output_type": "stream",
     "text": [
      "\n",
      "Track Name: Aazhi Mazhai Kanna\n",
      "Artist: A.R. Rahman\n",
      "Album: Ponniyin Selvan Part - 2 (Original Motion Picture Soundtrack)\n",
      "Popularity: 32\n",
      "Duration: 1.33 minutes\n"
     ]
    }
   ],
   "source": [
    "print(f\"\\nTrack Name: {track_data['Track Name']}\")\n",
    "print(f\"Artist: {track_data['Artist']}\")\n",
    "print(f\"Album: {track_data['Album']}\")\n",
    "print(f\"Popularity: {track_data['Popularity']}\")\n",
    "print(f\"Duration: {track_data['Duration (minutes)']:.2f} minutes\")"
   ]
  },
  {
   "cell_type": "code",
   "execution_count": 34,
   "id": "3f546238-44d0-4710-be37-e055f95f7108",
   "metadata": {},
   "outputs": [
    {
     "name": "stdout",
     "output_type": "stream",
     "text": [
      "\n",
      "Track Data as DataFrame:\n",
      "           Track Name       Artist  \\\n",
      "0  Aazhi Mazhai Kanna  A.R. Rahman   \n",
      "\n",
      "                                               Album  Popularity  \\\n",
      "0  Ponniyin Selvan Part - 2 (Original Motion Pict...          32   \n",
      "\n",
      "   Duration (minutes)  \n",
      "0            1.333333  \n"
     ]
    }
   ],
   "source": [
    "df = pd.DataFrame([track_data])\n",
    "print(\"\\nTrack Data as DataFrame:\")\n",
    "print(df)"
   ]
  },
  {
   "cell_type": "code",
   "execution_count": 39,
   "id": "d007ae59-e45e-450c-85f3-cdd6b64a0d7e",
   "metadata": {},
   "outputs": [],
   "source": [
    "df.to_csv('spotify_project_track_data.csv', index=False)"
   ]
  },
  {
   "cell_type": "code",
   "execution_count": 36,
   "id": "c10a9fd7-4edc-401d-a6b4-0d0b14fe18f1",
   "metadata": {},
   "outputs": [],
   "source": [
    "features = ['Popularity', 'Duration (minutes)']\n",
    "values = [track_data['Popularity'], track_data['Duration (minutes)']]"
   ]
  },
  {
   "cell_type": "code",
   "execution_count": 38,
   "id": "99c2a8b3-9898-4b77-a0e9-4e1d9d9145bf",
   "metadata": {},
   "outputs": [
    {
     "data": {
      "image/png": "[encoded data removed]",
      "text/plain": [
       "<Figure size 800x500 with 1 Axes>"
      ]
     },
     "metadata": {},
     "output_type": "display_data"
    }
   ],
   "source": [
    "plt.figure(figsize=(8, 5))\n",
    "plt.bar(features, values, color='skyblue', edgecolor='black')\n",
    "plt.title(f\"Track Metadata for '{track_data['Track Name']}'\")\n",
    "plt.ylabel('Value')\n",
    "plt.show()"
   ]
  },
  {
   "cell_type": "code",
   "execution_count": null,
   "id": "ec4e741b-9240-47b7-b05a-012b5d659061",
   "metadata": {},
   "outputs": [],
   "source": []
  }
 ],
 "metadata": {
  "kernelspec": {
   "display_name": "Python 3 (ipykernel)",
   "language": "python",
   "name": "python3"
  },
  "language_info": {
   "codemirror_mode": {
    "name": "ipython",
    "version": 3
   },
   "file_extension": ".py",
   "mimetype": "text/x-python",
   "name": "python",
   "nbconvert_exporter": "python",
   "pygments_lexer": "ipython3",
   "version": "3.13.2"
  }
 },
 "nbformat": 4,
 "nbformat_minor": 5
}
