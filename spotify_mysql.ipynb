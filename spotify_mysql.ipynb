{
 "cells": [
  {
   "cell_type": "code",
   "execution_count": 26,
   "id": "64d0d479-db7b-443a-b5b0-d672c663aa5e",
   "metadata": {},
   "outputs": [],
   "source": [
    "from spotipy.oauth2 import SpotifyClientCredentials\n",
    "import spotipy\n",
    "import pandas as pd\n",
    "import matplotlib.pyplot as plt\n",
    "import mysql.connector"
   ]
  },
  {
   "cell_type": "code",
   "execution_count": 27,
   "id": "7aa49a3f-c779-434e-ba41-ab45a21fe81a",
   "metadata": {},
   "outputs": [],
   "source": [
    "sp = spotipy.Spotify(auth_manager=SpotifyClientCredentials(\n",
    "    client_id='cf6c6ea8e17642d39e097d163531226d',\n",
    "    client_secret='f7580b3d0d0f4a61b99aff3d4bc1c7f5'\n",
    "))"
   ]
  },
  {
   "cell_type": "code",
   "execution_count": 28,
   "id": "fb4cea0d-d609-41f8-8d56-08f72655478b",
   "metadata": {},
   "outputs": [],
   "source": [
    "db_config = {\n",
    "    'host': 'localhost',\n",
    "    'user': 'root',\n",
    "    'password': 'root1234gsixK',\n",
    "    'database': 'Spotify_database'\n",
    "}"
   ]
  },
  {
   "cell_type": "code",
   "execution_count": 29,
   "id": "d6a59b7f-caee-48b4-951b-220e73ca9c92",
   "metadata": {},
   "outputs": [],
   "source": [
    "connection = mysql.connector.connect(**db_config)\n",
    "cursor = connection.cursor()"
   ]
  },
  {
   "cell_type": "code",
   "execution_count": 30,
   "id": "25b94e35-cbfc-4842-87d7-22603fbfd876",
   "metadata": {},
   "outputs": [],
   "source": [
    "import re\n",
    "track_url = \"https://open.spotify.com/track/4Cj76cQVvek5Ejdx8GDFop?si=e578f8b1a68d4798\"\n",
    "track_id = re.search(r'track/([a-zA-Z0-9]+)', track_url).group(1)\n",
    "track = sp.track(track_id)"
   ]
  },
  {
   "cell_type": "code",
   "execution_count": 31,
   "id": "91eab431-5245-4efe-a082-09c09cc4300a",
   "metadata": {},
   "outputs": [],
   "source": [
    "track_data = {\n",
    "    'Track Name': track['name'],\n",
    "    'Artist': track['artists'][0]['name'],\n",
    "    'Album': track['album']['name'],\n",
    "    'Popularity': track['popularity'],\n",
    "    'Duration (minutes)': track['duration_ms'] / 60000\n",
    "\n",
    "}"
   ]
  },
  {
   "cell_type": "code",
   "execution_count": 32,
   "id": "c8377479-eec2-4568-a15f-cfb689acb51d",
   "metadata": {},
   "outputs": [],
   "source": [
    "insert_query = \"\"\"\n",
    "INSERT INTO spotify_tracks (track_name, artist, album, popularity, duration_minutes)\n",
    "VALUES (%s, %s, %s, %s, %s)\n",
    "\"\"\""
   ]
  },
  {
   "cell_type": "code",
   "execution_count": 33,
   "id": "d387df90-02d2-4b4b-a09e-9fba5d5a049b",
   "metadata": {},
   "outputs": [],
   "source": [
    "cursor.execute(insert_query, (\n",
    "    track_data['Track Name'],\n",
    "    track_data['Artist'],\n",
    "    track_data['Album'],\n",
    "    track_data['Popularity'],\n",
    "    track_data['Duration (minutes)']\n",
    "))\n",
    "connection.commit()"
   ]
  },
  {
   "cell_type": "code",
   "execution_count": 34,
   "id": "7cc1ded8-524d-462a-86be-07af21cc0cfa",
   "metadata": {},
   "outputs": [
    {
     "name": "stdout",
     "output_type": "stream",
     "text": [
      "Track 'Aazhi Mazhai Kanna' by A.R. Rahman inserted into the database.\n"
     ]
    }
   ],
   "source": [
    "print(f\"Track '{track_data['Track Name']}' by {track_data['Artist']} inserted into the database.\")"
   ]
  },
  {
   "cell_type": "code",
   "execution_count": 25,
   "id": "b6af1151-f36c-4151-9d80-29e0600f607b",
   "metadata": {},
   "outputs": [],
   "source": [
    "cursor.close()\n",
    "connection.close()\n"
   ]
  }
 ],
 "metadata": {
  "kernelspec": {
   "display_name": "Python 3 (ipykernel)",
   "language": "python",
   "name": "python3"
  },
  "language_info": {
   "codemirror_mode": {
    "name": "ipython",
    "version": 3
   },
   "file_extension": ".py",
   "mimetype": "text/x-python",
   "name": "python",
   "nbconvert_exporter": "python",
   "pygments_lexer": "ipython3",
   "version": "3.13.2"
  }
 },
 "nbformat": 4,
 "nbformat_minor": 5
}
