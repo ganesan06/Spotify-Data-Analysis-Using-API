{
 "cells": [
  {
   "cell_type": "code",
   "execution_count": 12,
   "id": "53ee98e2-aa0f-4a2d-a86b-678f4020d2cb",
   "metadata": {},
   "outputs": [],
   "source": [
    "from spotipy.oauth2 import SpotifyClientCredentials\n",
    "import spotipy\n",
    "import mysql.connector\n",
    "import re"
   ]
  },
  {
   "cell_type": "code",
   "execution_count": 13,
   "id": "179f4e21-6762-4ab6-a048-f025ac3cef26",
   "metadata": {},
   "outputs": [],
   "source": [
    "sp = spotipy.Spotify(auth_manager=SpotifyClientCredentials(\n",
    "    client_id='cf6c6ea8e17642d39e097d163531226d',\n",
    "    client_secret='f7580b3d0d0f4a61b99aff3d4bc1c7f5'\n",
    "))"
   ]
  },
  {
   "cell_type": "code",
   "execution_count": 14,
   "id": "7b5616a6-9fe5-437b-9479-5cd4176cf610",
   "metadata": {},
   "outputs": [],
   "source": [
    "db_config = {\n",
    "    'host': 'localhost',\n",
    "    'user': 'root',\n",
    "    'password': 'root1234gsixK',\n",
    "    'database': 'Spotify_database'\n",
    "}"
   ]
  },
  {
   "cell_type": "code",
   "execution_count": 15,
   "id": "ce8ec974-a835-463d-bd6d-70c95bc7835b",
   "metadata": {},
   "outputs": [],
   "source": [
    "connection = mysql.connector.connect(**db_config)\n",
    "cursor = connection.cursor()"
   ]
  },
  {
   "cell_type": "code",
   "execution_count": 16,
   "id": "f7f7370e-e695-4cdf-82de-f4daba33177a",
   "metadata": {},
   "outputs": [],
   "source": [
    "file_path = \"track_urls.txt\"\n",
    "with open(file_path, 'r') as file:\n",
    "    track_urls = file.readlines()"
   ]
  },
  {
   "cell_type": "code",
   "execution_count": 17,
   "id": "099a4b5b-f9d4-4777-b9d6-95c8e91fd8a9",
   "metadata": {},
   "outputs": [
    {
     "name": "stdout",
     "output_type": "stream",
     "text": [
      "Track 'Aazhi Mazhai Kanna' by A.R. Rahman inserted into the database.\n",
      "Track 'Aga Naga (From \"Ponniyin Selvan Part-2\")' by A.R. Rahman inserted into the database.\n",
      "Track 'Chinnanjiru (Marumurai)' by A.R. Rahman inserted into the database.\n",
      "Track 'Chinnanjiru Nilave' by A.R. Rahman inserted into the database.\n",
      "Track 'Ilaiyor Soodaar' by A.R. Rahman inserted into the database.\n",
      "Track 'Shivoham' by A.R. Rahman inserted into the database.\n",
      "Track 'Veera Raja Veera' by Composition Based on a Dagarvani Tradition Dhrupad inserted into the database.\n",
      "Track 'Alaikadal (From \"Ponniyin Selvan Part - 1\")' by A.R. Rahman inserted into the database.\n",
      "Track 'Chola Chola (From \"Ponniyin Selvan Part - 1\")' by A.R. Rahman inserted into the database.\n",
      "Track 'Devaralan Aattam (From \"Ponniyin Selvan Part - 1\")' by A.R. Rahman inserted into the database.\n",
      "Track 'Ponni Nadhi (From \"Ponniyin Selvan Part - 1\")' by A.R. Rahman inserted into the database.\n",
      "Track 'Ratchasa Maamaney (From \"Ponniyin Selvan Part - 1\")' by A.R. Rahman inserted into the database.\n",
      "Track 'Sol (From \"Ponniyin Selvan Part - 1\")' by A.R. Rahman inserted into the database.\n"
     ]
    }
   ],
   "source": [
    "for track_url in track_urls:\n",
    "    track_url = track_url.strip()\n",
    "    try:\n",
    "        track_id = re.search(r'track/([a-zA-Z0-9]+)', track_url).group(1)\n",
    "        track = sp.track(track_id)\n",
    "\n",
    "        track_data = {\n",
    "            'Track Name': track['name'],\n",
    "            'Artist': track['artists'][0]['name'],\n",
    "            'Album': track['album']['name'],\n",
    "            'Popularity': track['popularity'],\n",
    "            'Duration (minutes)': track['duration_ms'] / 60000\n",
    "        }\n",
    "\n",
    "        insert_query = \"\"\"\n",
    "        INSERT INTO spotify_tracks (track_name, artist, album, popularity, duration_minutes)\n",
    "        VALUES (%s, %s, %s, %s, %s)\n",
    "        \"\"\"\n",
    "        cursor.execute(insert_query, (\n",
    "            track_data['Track Name'],\n",
    "            track_data['Artist'],\n",
    "            track_data['Album'],\n",
    "            track_data['Popularity'],\n",
    "            track_data['Duration (minutes)']\n",
    "        ))\n",
    "        connection.commit()\n",
    "\n",
    "        print(f\"Track '{track_data['Track Name']}' by {track_data['Artist']} inserted into the database.\")\n",
    "\n",
    "    except Exception as e:\n",
    "        print(f\"Error_processing URL: {track_url}, Error: {e}\")\n"
   ]
  },
  {
   "cell_type": "code",
   "execution_count": 18,
   "id": "31db4ae1-c490-4782-a94c-35569a8dd239",
   "metadata": {},
   "outputs": [],
   "source": [
    "cursor.close()\n",
    "connection.close()"
   ]
  },
  {
   "cell_type": "code",
   "execution_count": null,
   "id": "ec17bbb6-3d66-4798-8f26-fdd2c3d76a3c",
   "metadata": {},
   "outputs": [],
   "source": []
  }
 ],
 "metadata": {
  "kernelspec": {
   "display_name": "Python 3 (ipykernel)",
   "language": "python",
   "name": "python3"
  },
  "language_info": {
   "codemirror_mode": {
    "name": "ipython",
    "version": 3
   },
   "file_extension": ".py",
   "mimetype": "text/x-python",
   "name": "python",
   "nbconvert_exporter": "python",
   "pygments_lexer": "ipython3",
   "version": "3.13.2"
  }
 },
 "nbformat": 4,
 "nbformat_minor": 5
}
